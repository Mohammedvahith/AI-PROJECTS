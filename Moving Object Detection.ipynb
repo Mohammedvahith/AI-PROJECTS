{
 "cells": [
  {
   "cell_type": "code",
   "execution_count": 1,
   "id": "bc8e95bd",
   "metadata": {},
   "outputs": [],
   "source": [
    "import cv2\n",
    "import imutils"
   ]
  },
  {
   "cell_type": "code",
   "execution_count": 2,
   "id": "8c7fc7d6",
   "metadata": {},
   "outputs": [],
   "source": [
    "video = cv2.VideoCapture(0)"
   ]
  },
  {
   "cell_type": "code",
   "execution_count": 3,
   "id": "5596585b",
   "metadata": {},
   "outputs": [],
   "source": [
    "firstFrame = None\n",
    "area = 500"
   ]
  },
  {
   "cell_type": "code",
   "execution_count": 4,
   "id": "c6413821",
   "metadata": {},
   "outputs": [
    {
     "name": "stdout",
     "output_type": "stream",
     "text": [
      "Moving Object Detected\n",
      "Moving Object Detected\n",
      "Moving Object Detected\n",
      "Moving Object Detected\n",
      "Moving Object Detected\n",
      "Moving Object Detected\n",
      "Moving Object Detected\n",
      "Moving Object Detected\n",
      "Moving Object Detected\n",
      "Moving Object Detected\n",
      "Moving Object Detected\n",
      "Moving Object Detected\n",
      "Moving Object Detected\n",
      "Moving Object Detected\n",
      "Moving Object Detected\n",
      "Moving Object Detected\n",
      "Moving Object Detected\n",
      "Moving Object Detected\n",
      "Moving Object Detected\n",
      "Moving Object Detected\n",
      "Moving Object Detected\n",
      "Moving Object Detected\n",
      "Moving Object Detected\n",
      "Moving Object Detected\n",
      "Moving Object Detected\n",
      "Moving Object Detected\n"
     ]
    },
    {
     "name": "stdout",
     "output_type": "stream",
     "text": [
      "Moving Object Detected\n",
      "Moving Object Detected\n",
      "Moving Object Detected\n",
      "Moving Object Detected\n",
      "Moving Object Detected\n",
      "Moving Object Detected\n"
     ]
    }
   ],
   "source": [
    "while True:\n",
    "    _,img = video.read()\n",
    "    text = \"Normal\"\n",
    "    img = imutils.resize(img, width = 1000)\n",
    "    grayImg = cv2.cvtColor(img, cv2.COLOR_BGR2GRAY)\n",
    "    gaussianImg = cv2.GaussianBlur(grayImg, (21,21), 0)\n",
    "    if firstFrame is None:\n",
    "        firstFrame = gaussianImg\n",
    "        continue\n",
    "    imgDiff =cv2.absdiff(firstFrame, gaussianImg)\n",
    "    threshImg = cv2.threshold(imgDiff, 25, 255, cv2.THRESH_BINARY)[1]\n",
    "    threshImg = cv2.dilate(threshImg, None, iterations = 2)\n",
    "    cnts = cv2.findContours(threshImg.copy(), cv2.RETR_EXTERNAL,\n",
    "                            cv2.CHAIN_APPROX_SIMPLE)\n",
    "    cnts = imutils.grab_contours(cnts)\n",
    "    for c in cnts:\n",
    "        if cv2.contourArea(c) < area:\n",
    "            continue\n",
    "        (x, y, w, h) = cv2.boundingRect(c)\n",
    "        cv2.rectangle(img, (x, y), (x + w, y +h), (0, 255, 0), 2)\n",
    "        text = \"Moving Object Detected\"\n",
    "    print(text)\n",
    "    cv2.putText(img, text, (10, 20), cv2.FONT_HERSHEY_SIMPLEX, \n",
    "               0.5, (0, 0, 255), 2)\n",
    "    cv2.imshow(\"VideoStream\", img)\n",
    "    \n",
    "    key = cv2.waitKey(1)\n",
    "    \n",
    "    if key == ord(\"q\"):\n",
    "        break\n",
    "    \n",
    "video.release()\n",
    "cv2.destroyAllWindows()"
   ]
  },
  {
   "cell_type": "code",
   "execution_count": null,
   "id": "f52a3a71",
   "metadata": {},
   "outputs": [],
   "source": []
  }
 ],
 "metadata": {
  "kernelspec": {
   "display_name": "Python 3 (ipykernel)",
   "language": "python",
   "name": "python3"
  },
  "language_info": {
   "codemirror_mode": {
    "name": "ipython",
    "version": 3
   },
   "file_extension": ".py",
   "mimetype": "text/x-python",
   "name": "python",
   "nbconvert_exporter": "python",
   "pygments_lexer": "ipython3",
   "version": "3.11.5"
  }
 },
 "nbformat": 4,
 "nbformat_minor": 5
}
